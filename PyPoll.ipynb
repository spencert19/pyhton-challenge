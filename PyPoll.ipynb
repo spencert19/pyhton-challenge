{
 "cells": [
  {
   "cell_type": "code",
   "execution_count": null,
   "id": "4dcaeb3e",
   "metadata": {},
   "outputs": [],
   "source": [
    "# Import dependencies\n",
    "import os, csv\n",
    "from pathlib import Path "
   ]
  },
  {
   "cell_type": "code",
   "execution_count": null,
   "id": "8dfe1429",
   "metadata": {},
   "outputs": [],
   "source": [
    "# Assign file location with the pathlib library\n",
    "csv_file_path = Path(\"python-challenge\", \"PyPoll\", \"election_data.csv\")"
   ]
  },
  {
   "cell_type": "code",
   "execution_count": null,
   "id": "f20d298a",
   "metadata": {},
   "outputs": [],
   "source": [
    "# Declare Variables \n",
    "total_votes = 0 \n",
    "khan_votes = 0\n",
    "correy_votes = 0\n",
    "li_votes = 0\n",
    "otooley_votes = 0"
   ]
  },
  {
   "cell_type": "code",
   "execution_count": null,
   "id": "3118c759",
   "metadata": {},
   "outputs": [],
   "source": [
    "# Open csv in default read mode with context manager\n",
    "with open(csv_file_path,newline=\"\", encoding=\"utf-8\") as elections:\n",
    "\n",
    "    # Store data under the csvreader variable\n",
    "    csvreader = csv.reader(elections,delimiter=\",\") \n",
    "\n",
    "    # Skip the header so we iterate through the actual values\n",
    "    header = next(csvreader)     \n",
    "\n",
    "    # Iterate through each row in the csv\n",
    "    for row in csvreader: \n",
    "\n",
    "        # Count the unique Voter ID's and store in variable  called total_votes\n",
    "        total_votes +=1\n",
    "\n",
    "        # We have four candidates if the name is found, count the times it appears and store in a list\n",
    "        # We can use this values in our percent vote calculation in the print statements\n",
    "        if row[2] == \"Khan\": \n",
    "            khan_votes +=1\n",
    "        elif row[2] == \"Correy\":\n",
    "            correy_votes +=1\n",
    "        elif row[2] == \"Li\": \n",
    "            li_votes +=1\n",
    "        elif row[2] == \"O'Tooley\":\n",
    "            otooley_votes +=1"
   ]
  },
  {
   "cell_type": "code",
   "execution_count": null,
   "id": "86d6c546",
   "metadata": {},
   "outputs": [],
   "source": [
    " # To find the winner we want to make a dictionary out of the two lists we previously created \n",
    "candidates = [\"Khan\", \"Correy\", \"Li\",\"O'Tooley\"]\n",
    "votes = [khan_votes, correy_votes,li_votes,otooley_votes]"
   ]
  },
  {
   "cell_type": "code",
   "execution_count": null,
   "id": "b3d11124",
   "metadata": {},
   "outputs": [],
   "source": [
    "# We zip them together the list of candidate(key) and the total votes(value)\n",
    "# Return the winner using a max function of the dictionary \n",
    "dict_candidates_and_votes = dict(zip(candidates,votes))\n",
    "key = max(dict_candidates_and_votes, key=dict_candidates_and_votes.get)"
   ]
  },
  {
   "cell_type": "code",
   "execution_count": null,
   "id": "940f4c4f",
   "metadata": {},
   "outputs": [],
   "source": [
    "# Print a the summary of the analysis\n",
    "khan_percent = (khan_votes/total_votes) *100\n",
    "correy_percent = (correy_votes/total_votes) * 100\n",
    "li_percent = (li_votes/total_votes)* 100\n",
    "otooley_percent = (otooley_votes/total_votes) * 100"
   ]
  },
  {
   "cell_type": "code",
   "execution_count": null,
   "id": "26fc587f",
   "metadata": {},
   "outputs": [],
   "source": [
    "# Print the summary table\n",
    "print(f\"Election Results\")\n",
    "print(f\"----------------------------\")\n",
    "print(f\"Total Votes: {total_votes}\")\n",
    "print(f\"----------------------------\")\n",
    "print(f\"Khan: {khan_percent:.3f}% ({khan_votes})\")\n",
    "print(f\"Correy: {correy_percent:.3f}% ({correy_votes})\")\n",
    "print(f\"Li: {li_percent:.3f}% ({li_votes})\")\n",
    "print(f\"O'Tooley: {otooley_percent:.3f}% ({otooley_votes})\")\n",
    "print(f\"----------------------------\")\n",
    "print(f\"Winner: {key}\")\n",
    "print(f\"----------------------------\")"
   ]
  },
  {
   "cell_type": "code",
   "execution_count": null,
   "id": "355af069",
   "metadata": {},
   "outputs": [],
   "source": [
    "# Output files\n",
    "# Assign output file location and with the pathlib library\n",
    "output_file = Path(\"python-challenge\", \"PyPoll\", \"Election_Results_Summary.txt\")"
   ]
  },
  {
   "cell_type": "code",
   "execution_count": null,
   "id": "02deefb8",
   "metadata": {},
   "outputs": [],
   "source": [
    "with open(output_file,\"w\") as file:\n",
    "\n",
    "# Write methods to print to Elections_Results_Summary \n",
    "    file.write(f\"Election Results\")\n",
    "    file.write(\"\\n\")\n",
    "    file.write(f\"----------------------------\")\n",
    "    file.write(\"\\n\")\n",
    "    file.write(f\"Total Votes: {total_votes}\")\n",
    "    file.write(\"\\n\")\n",
    "    file.write(f\"----------------------------\")\n",
    "    file.write(\"\\n\")\n",
    "    file.write(f\"Khan: {khan_percent:.3f}% ({khan_votes})\")\n",
    "    file.write(\"\\n\")\n",
    "    file.write(f\"Correy: {correy_percent:.3f}% ({correy_votes})\")\n",
    "    file.write(\"\\n\")\n",
    "    file.write(f\"Li: {li_percent:.3f}% ({li_votes})\")\n",
    "    file.write(\"\\n\")\n",
    "    file.write(f\"O'Tooley: {otooley_percent:.3f}% ({otooley_votes})\")\n",
    "    file.write(\"\\n\")\n",
    "    file.write(f\"----------------------------\")\n",
    "    file.write(\"\\n\")\n",
    "    file.write(f\"Winner: {key}\")\n",
    "    file.write(\"\\n\")\n",
    "    file.write(f\"----------------------------\")"
   ]
  }
 ],
 "metadata": {
  "kernelspec": {
   "display_name": "Python 3 (ipykernel)",
   "language": "python",
   "name": "python3"
  },
  "language_info": {
   "codemirror_mode": {
    "name": "ipython",
    "version": 3
   },
   "file_extension": ".py",
   "mimetype": "text/x-python",
   "name": "python",
   "nbconvert_exporter": "python",
   "pygments_lexer": "ipython3",
   "version": "3.11.4"
  }
 },
 "nbformat": 4,
 "nbformat_minor": 5
}
